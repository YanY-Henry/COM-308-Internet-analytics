{
 "cells": [
  {
   "cell_type": "markdown",
   "metadata": {},
   "source": [
    "# Text 3: Latent Dirichlet allocation\n",
    "**Internet Analytics - Lab 4**\n",
    "\n",
    "---\n",
    "\n",
    "**Group:** *X*\n",
    "\n",
    "**Names:**\n",
    "\n",
    "* *Linqi Liu*\n",
    "* *Yifei Song*\n",
    "* *Ying Xu Dempster Tay*\n",
    "* *Yuhang Yan*\n",
    "\n",
    "---\n",
    "\n",
    "#### Instructions\n",
    "\n",
    "*This is a template for part 3 of the lab. Clearly write your answers, comments and interpretations in Markodown cells. Don't forget that you can add $\\LaTeX$ equations in these cells. Feel free to add or remove any cell.*\n",
    "\n",
    "*Please properly comment your code. Code readability will be considered for grading. To avoid long cells of codes in the notebook, you can also embed long python functions and classes in a separate module. Don’t forget to hand in your module if that is the case. In multiple exercises, you are required to come up with your own method to solve various problems. Be creative and clearly motivate and explain your methods. Creativity and clarity will be considered for grading.*"
   ]
  },
  {
   "cell_type": "code",
   "execution_count": 1,
   "metadata": {},
   "outputs": [],
   "source": [
    "from pyspark.mllib.clustering import LDA, LDAModel\n",
    "from pyspark.mllib.linalg import Vectors\n",
    "from utils import load_json\n",
    "import numpy as np\n",
    "import json"
   ]
  },
  {
   "cell_type": "markdown",
   "metadata": {},
   "source": [
    "## Exercise 4.8: Topics extraction"
   ]
  },
  {
   "cell_type": "code",
   "execution_count": 2,
   "metadata": {},
   "outputs": [
    {
     "name": "stdout",
     "output_type": "stream",
     "text": [
      "courses[0]: {'courseId': 'MSE-440', 'name': 'Composites technology', 'description': 'latest develop process gener organ composit discuss nanocomposit adapt composit present product develop cost analysi studi market practic team work basic composit materi process composit design composit structur current develop nanocomposit composit biocomposit adapt composit applic drive forc market cost analysi aerospac keyword composit applic nanocomposit biocomposit adapt composit design cost prerequisit requir notion polym recommend polym composit propos suitabl product perform criteria product composit part appli basic equat process mechan properti model composit materi discuss main type composit applic transvers skill work methodolog task gener domain specif IT resourc tool commun effect profession disciplin evalu perform team receiv respond appropri feedback teach cathedra invit speaker group session exercis work project expect activ attend lectur design composit part bibliographi search assess written exam report oral present class'} \n",
      "\n",
      "course_ids[:5]: ['MSE-440', 'BIO-695', 'FIN-523', 'MICRO-614', 'ME-231(a)'] \n",
      "\n",
      "terms[:5]: ['approxim', 'analysi', 'divers', 'matanya', 'refriger']\n"
     ]
    }
   ],
   "source": [
    "# Load data\n",
    "courses = load_json('data/courses_processed.txt')\n",
    "course_ids = [x['courseId'] for x in courses]\n",
    "terms = np.load('terms_indices.npy', allow_pickle=True).tolist()\n",
    "\n",
    "print('courses[0]:', courses[0], '\\n')\n",
    "print('course_ids[:5]:', course_ids[:5], '\\n')\n",
    "print('terms[:5]:', terms[:5])"
   ]
  },
  {
   "cell_type": "code",
   "execution_count": 3,
   "metadata": {},
   "outputs": [
    {
     "name": "stdout",
     "output_type": "stream",
     "text": [
      "courses_rdd: PythonRDD[1] at RDD at PythonRDD.scala:54\n"
     ]
    }
   ],
   "source": [
    "# Transfer the data to RDD format\n",
    "courses_rdd = sc.parallelize(courses).map(\n",
    "    lambda x: [course_ids.index(x['courseId']), Vectors.dense([x['description'].split(\" \").count(t) for t in terms])]\n",
    ")\n",
    "\n",
    "print('courses_rdd:', courses_rdd)"
   ]
  },
  {
   "cell_type": "code",
   "execution_count": 4,
   "metadata": {},
   "outputs": [],
   "source": [
    "# Train the LDA model\n",
    "lda_model = LDA.train(courses_rdd, k=10)"
   ]
  },
  {
   "cell_type": "code",
   "execution_count": 5,
   "metadata": {},
   "outputs": [
    {
     "name": "stdout",
     "output_type": "stream",
     "text": [
      "Topic 1:\n",
      "['materi', 'electron', 'energi', 'properti', 'physic', 'devic', 'applic', 'magnet', 'sensor', 'electr']\n",
      "Topic 2:\n",
      "['system', 'present', 'paper', 'assess', 'energi', 'process', 'engin', 'control', 'discuss', 'requir']\n",
      "Topic 3:\n",
      "['cell', 'structur', 'biolog', 'chemic', 'engin', 'mechan', 'design', 'chemistri', 'water', 'week']\n",
      "Topic 4:\n",
      "['problem', 'analysi', 'assess', 'concept', 'basic', 'data', 'exam', 'mass', 'probabl', 'teach']\n",
      "Topic 5:\n",
      "['model', 'imag', 'analysi', 'linear', 'process', 'signal', 'statist', 'exercis', 'basic', 'code']\n",
      "Topic 6:\n",
      "['data', 'comput', 'program', 'model', 'algorithm', 'commun', 'flow', 'system', 'softwar', 'assess']\n",
      "Topic 7:\n",
      "['project', 'report', 'research', 'architectur', 'semest', 'plan', 'work', 'develop', 'evalu', 'laboratori']\n",
      "Topic 8:\n",
      "['model', 'case', 'assess', 'develop', 'market', 'innov', 'stochast', 'present', 'group', 'work']\n",
      "Topic 9:\n",
      "['optic', 'basic', 'equat', 'theori', 'applic', 'laser', 'process', 'principl', 'mechan', 'quantum']\n",
      "Topic 10:\n",
      "['assess', 'learn', 'teach', 'present', 'protein', 'activ', 'exam', 'class', 'risk', 'concept']\n"
     ]
    }
   ],
   "source": [
    "# Virtualize the model\n",
    "def model_virtualization(model):\n",
    "    lda_topic = model.describeTopics(maxTermsPerTopic=10)\n",
    "    for i, topics in enumerate(lda_topic):\n",
    "        print(f'Topic {i+1}:')\n",
    "        print([terms[topic] for topic in topics[0]])\n",
    "        \n",
    "model_virtualization(lda_model)"
   ]
  },
  {
   "cell_type": "code",
   "execution_count": 6,
   "metadata": {},
   "outputs": [
    {
     "name": "stdout",
     "output_type": "stream",
     "text": [
      "Topic 1: Chemical Processes\n",
      "Topic 2: Management and Optimization\n",
      "Topic 3: Materials and Electronics\n",
      "Topic 4: Optics and Computation\n",
      "Topic 5: Architecture and Urban Development\n",
      "Topic 6: Statistical Analysis and Signal Processing\n",
      "Topic 7: Electronics and Material Properties\n",
      "Topic 8: Cellular Biology\n",
      "Topic 9: Project Management and Research Skills\n",
      "Topic 10: Energy and Thermodynamics\n"
     ]
    }
   ],
   "source": [
    "# Manually add labels to topics\n",
    "labels = [\n",
    "    'Chemical Processes',\n",
    "    'Management and Optimization',\n",
    "    'Materials and Electronics',\n",
    "    'Optics and Computation',\n",
    "    'Architecture and Urban Development',\n",
    "    'Statistical Analysis and Signal Processing',\n",
    "    'Electronics and Material Properties',\n",
    "    'Cellular Biology',\n",
    "    'Project Management and Research Skills',\n",
    "    'Energy and Thermodynamics'\n",
    "]\n",
    "\n",
    "for i, label in enumerate(labels):\n",
    "    print(f'Topic {i+1}: {label}')"
   ]
  },
  {
   "cell_type": "markdown",
   "metadata": {},
   "source": [
    "#### Compared with LSI:\n"
   ]
  },
  {
   "cell_type": "markdown",
   "metadata": {},
   "source": [
    "## Exercise 4.9: Dirichlet hyperparameters"
   ]
  },
  {
   "cell_type": "markdown",
   "metadata": {},
   "source": [
    "### Fix k = 10 and β = 1.01, and vary α"
   ]
  },
  {
   "cell_type": "code",
   "execution_count": 7,
   "metadata": {},
   "outputs": [],
   "source": [
    "def test_with_a(a, b=1.01, k=10):\n",
    "    print(f'k = {k}, a = {a}, b = {b}\\n')\n",
    "    lda_model = LDA.train(courses_rdd, docConcentration=a, topicConcentration=b, k=k)\n",
    "    model_virtualization(lda_model)"
   ]
  },
  {
   "cell_type": "code",
   "execution_count": 8,
   "metadata": {},
   "outputs": [
    {
     "name": "stdout",
     "output_type": "stream",
     "text": [
      "k = 10, a = 1.01, b = 1.01\n",
      "\n",
      "Topic 1:\n",
      "['biolog', 'molecular', 'chemistri', 'cell', 'discuss', 'protein', 'present', 'exercis', 'lectur', 'properti']\n",
      "Topic 2:\n",
      "['project', 'data', 'assess', 'program', 'present', 'plan', 'comput', 'skill', 'learn', 'research']\n",
      "Topic 3:\n",
      "['model', 'analysi', 'report', 'process', 'mass', 'data', 'problem', 'project', 'experiment', 'experi']\n",
      "Topic 4:\n",
      "['optic', 'electron', 'materi', 'structur', 'laser', 'microscopi', 'mechan', 'devic', 'techniqu', 'applic']\n",
      "Topic 5:\n",
      "['materi', 'physic', 'magnet', 'cell', 'field', 'solid', 'mechan', 'properti', 'effect', 'state']\n",
      "Topic 6:\n",
      "['energi', 'process', 'product', 'assess', 'chemic', 'environment', 'problem', 'water', 'lectur', 'reaction']\n",
      "Topic 7:\n",
      "['group', 'present', 'work', 'project', 'develop', 'studi', 'assess', 'case', 'semest', 'evalu']\n",
      "Topic 8:\n",
      "['system', 'signal', 'process', 'model', 'commun', 'imag', 'lectur', 'digit', 'week', 'teach']\n",
      "Topic 9:\n",
      "['theori', 'control', 'statist', 'basic', 'probabl', 'model', 'measur', 'comput', 'problem', 'quantum']\n",
      "Topic 10:\n",
      "['model', 'market', 'stochast', 'price', 'risk', 'basic', 'assess', 'introduct', 'financ', 'lectur']\n"
     ]
    }
   ],
   "source": [
    "a = 1.01\n",
    "test_with_a(a)"
   ]
  },
  {
   "cell_type": "code",
   "execution_count": 9,
   "metadata": {},
   "outputs": [
    {
     "name": "stdout",
     "output_type": "stream",
     "text": [
      "k = 10, a = 2.0, b = 1.01\n",
      "\n",
      "Topic 1:\n",
      "['project', 'manag', 'present', 'plan', 'assess', 'group', 'case', 'evalu', 'engin', 'work']\n",
      "Topic 2:\n",
      "['electron', 'chemic', 'energi', 'chemistri', 'reaction', 'cell', 'devic', 'organ', 'molecular', 'basic']\n",
      "Topic 3:\n",
      "['present', 'assess', 'lectur', 'paper', 'problem', 'basic', 'analysi', 'teach', 'data', 'discuss']\n",
      "Topic 4:\n",
      "['mechan', 'physic', 'energi', 'process', 'heat', 'mass', 'flow', 'applic', 'materi', 'transfer']\n",
      "Topic 5:\n",
      "['model', 'control', 'process', 'signal', 'system', 'code', 'simul', 'digit', 'assess', 'circuit']\n",
      "Topic 6:\n",
      "['model', 'theori', 'analysi', 'statist', 'probabl', 'basic', 'equat', 'stochast', 'problem', 'linear']\n",
      "Topic 7:\n",
      "['develop', 'present', 'research', 'semest', 'work', 'biolog', 'lectur', 'innov', 'protein', 'technolog']\n",
      "Topic 8:\n",
      "['product', 'inform', 'network', 'assess', 'applic', 'system', 'industri', 'commun', 'present', 'model']\n",
      "Topic 9:\n",
      "['data', 'project', 'report', 'problem', 'skill', 'algorithm', 'optim', 'learn', 'assess', 'plan']\n",
      "Topic 10:\n",
      "['materi', 'imag', 'structur', 'microscopi', 'properti', 'electron', 'optic', 'techniqu', 'magnet', 'robot']\n"
     ]
    }
   ],
   "source": [
    "a = 2.0\n",
    "test_with_a(a)"
   ]
  },
  {
   "cell_type": "code",
   "execution_count": 10,
   "metadata": {},
   "outputs": [
    {
     "name": "stdout",
     "output_type": "stream",
     "text": [
      "k = 10, a = 6.0, b = 1.01\n",
      "\n",
      "Topic 1:\n",
      "['project', 'assess', 'research', 'develop', 'discuss', 'present', 'work', 'gener', 'oral', 'reactor']\n",
      "Topic 2:\n",
      "['project', 'report', 'data', 'plan', 'skill', 'assess', 'work', 'evalu', 'research', 'scientif']\n",
      "Topic 3:\n",
      "['biolog', 'present', 'paper', 'cell', 'learn', 'protein', 'lectur', 'network', 'assess', 'molecular']\n",
      "Topic 4:\n",
      "['model', 'analysi', 'linear', 'statist', 'process', 'code', 'materi', 'test', 'assess', 'signal']\n",
      "Topic 5:\n",
      "['model', 'stochast', 'market', 'control', 'deriv', 'price', 'risk', 'financi', 'introduct', 'circuit']\n",
      "Topic 6:\n",
      "['chemic', 'chemistri', 'reaction', 'present', 'process', 'organ', 'engin', 'semest', 'lectur', 'kinet']\n",
      "Topic 7:\n",
      "['energi', 'case', 'technolog', 'power', 'engin', 'week', 'manag', 'assess', 'mass', 'present']\n",
      "Topic 8:\n",
      "['equat', 'mechan', 'numer', 'flow', 'physic', 'theori', 'concept', 'basic', 'simul', 'model']\n",
      "Topic 9:\n",
      "['optic', 'materi', 'imag', 'electron', 'applic', 'process', 'basic', 'properti', 'laser', 'physic']\n",
      "Topic 10:\n",
      "['system', 'model', 'exercis', 'comput', 'program', 'design', 'data', 'function', 'algorithm', 'space']\n"
     ]
    }
   ],
   "source": [
    "a = 6.0\n",
    "test_with_a(a)"
   ]
  },
  {
   "cell_type": "code",
   "execution_count": 11,
   "metadata": {},
   "outputs": [
    {
     "name": "stdout",
     "output_type": "stream",
     "text": [
      "k = 10, a = 10.0, b = 1.01\n",
      "\n",
      "Topic 1:\n",
      "['optic', 'imag', 'basic', 'signal', 'process', 'principl', 'model', 'exercis', 'filter', 'techniqu']\n",
      "Topic 2:\n",
      "['process', 'structur', 'energi', 'lectur', 'analysi', 'week', 'assess', 'stabil', 'present', 'mass']\n",
      "Topic 3:\n",
      "['materi', 'electron', 'properti', 'chemic', 'mechan', 'reaction', 'structur', 'chemistri', 'magnet', 'process']\n",
      "Topic 4:\n",
      "['model', 'data', 'analysi', 'assess', 'present', 'problem', 'risk', 'develop', 'gener', 'linear']\n",
      "Topic 5:\n",
      "['cell', 'teach', 'basic', 'biolog', 'quantum', 'model', 'present', 'assess', 'analysi', 'lectur']\n",
      "Topic 6:\n",
      "['architectur', 'system', 'model', 'control', 'assess', 'water', 'final', 'present', 'work', 'develop']\n",
      "Topic 7:\n",
      "['model', 'probabl', 'theori', 'stochast', 'deriv', 'market', 'statist', 'price', 'time', 'analysi']\n",
      "Topic 8:\n",
      "['report', 'project', 'data', 'research', 'scientif', 'plan', 'experi', 'experiment', 'evalu', 'assess']\n",
      "Topic 9:\n",
      "['laser', 'applic', 'sensor', 'power', 'basic', 'electron', 'model', 'energi', 'devic', 'assess']\n",
      "Topic 10:\n",
      "['flow', 'project', 'assess', 'concept', 'work', 'equat', 'plan', 'present', 'skill', 'heat']\n"
     ]
    }
   ],
   "source": [
    "a = 10.0\n",
    "test_with_a(a)"
   ]
  },
  {
   "cell_type": "code",
   "execution_count": 12,
   "metadata": {},
   "outputs": [
    {
     "name": "stdout",
     "output_type": "stream",
     "text": [
      "k = 10, a = 20.0, b = 1.01\n",
      "\n",
      "Topic 1:\n",
      "['assess', 'present', 'project', 'cell', 'work', 'model', 'analysi', 'activ', 'process', 'lectur']\n",
      "Topic 2:\n",
      "['model', 'process', 'materi', 'basic', 'assess', 'exercis', 'introduct', 'lectur', 'techniqu', 'devic']\n",
      "Topic 3:\n",
      "['materi', 'model', 'assess', 'applic', 'mechan', 'structur', 'basic', 'lectur', 'electron', 'analysi']\n",
      "Topic 4:\n",
      "['process', 'model', 'assess', 'analysi', 'basic', 'present', 'applic', 'data', 'concept', 'prerequisit']\n",
      "Topic 5:\n",
      "['system', 'engin', 'model', 'assess', 'concept', 'teach', 'project', 'lectur', 'learn', 'present']\n",
      "Topic 6:\n",
      "['optic', 'structur', 'imag', 'week', 'assess', 'basic', 'process', 'microscopi', 'lectur', 'present']\n",
      "Topic 7:\n",
      "['model', 'report', 'project', 'assess', 'risk', 'evalu', 'present', 'optim', 'market', 'problem']\n",
      "Topic 8:\n",
      "['model', 'project', 'assess', 'analysi', 'process', 'energi', 'lectur', 'present', 'work', 'evalu']\n",
      "Topic 9:\n",
      "['model', 'control', 'assess', 'robot', 'lectur', 'basic', 'concept', 'present', 'analysi', 'exercis']\n",
      "Topic 10:\n",
      "['architectur', 'assess', 'model', 'optic', 'project', 'work', 'develop', 'lectur', 'data', 'present']\n"
     ]
    }
   ],
   "source": [
    "a = 20.0\n",
    "test_with_a(a)"
   ]
  },
  {
   "cell_type": "code",
   "execution_count": 13,
   "metadata": {},
   "outputs": [
    {
     "name": "stdout",
     "output_type": "stream",
     "text": [
      "k = 10, a = 100.0, b = 1.01\n",
      "\n",
      "Topic 1:\n",
      "['model', 'assess', 'lectur', 'process', 'present', 'analysi', 'project', 'concept', 'basic', 'work']\n",
      "Topic 2:\n",
      "['model', 'assess', 'present', 'analysi', 'lectur', 'process', 'basic', 'project', 'concept', 'exercis']\n",
      "Topic 3:\n",
      "['model', 'assess', 'process', 'present', 'basic', 'lectur', 'project', 'work', 'analysi', 'concept']\n",
      "Topic 4:\n",
      "['model', 'assess', 'present', 'process', 'lectur', 'basic', 'project', 'concept', 'work', 'analysi']\n",
      "Topic 5:\n",
      "['model', 'assess', 'process', 'present', 'analysi', 'basic', 'lectur', 'project', 'concept', 'materi']\n",
      "Topic 6:\n",
      "['model', 'assess', 'present', 'process', 'analysi', 'project', 'basic', 'lectur', 'concept', 'work']\n",
      "Topic 7:\n",
      "['model', 'assess', 'present', 'lectur', 'project', 'analysi', 'concept', 'process', 'work', 'basic']\n",
      "Topic 8:\n",
      "['model', 'assess', 'process', 'project', 'lectur', 'analysi', 'present', 'basic', 'concept', 'activ']\n",
      "Topic 9:\n",
      "['model', 'assess', 'present', 'process', 'analysi', 'lectur', 'basic', 'project', 'concept', 'teach']\n",
      "Topic 10:\n",
      "['model', 'assess', 'process', 'lectur', 'analysi', 'present', 'project', 'concept', 'materi', 'basic']\n"
     ]
    }
   ],
   "source": [
    "a = 100.0\n",
    "test_with_a(a)"
   ]
  },
  {
   "cell_type": "markdown",
   "metadata": {},
   "source": [
    "A high α value leads to a uniform distribution of topics across documents, where each topic is equally represented. When α=100, general terms dominate the topics, present in almost all documents. Even with α=20, some specific words still persist, but the overall effect remains similar.\n",
    "\n",
    "No notable difference is seen in topics for α values {1.01, 2, 5}, with the top terms staying consistent. However, for α=10, we begin to see specific domain terms diminish and relevance scores decrease, approaching a uniform distribution."
   ]
  },
  {
   "cell_type": "markdown",
   "metadata": {},
   "source": [
    "### Fix k = 10 and α = 6, and vary β"
   ]
  },
  {
   "cell_type": "code",
   "execution_count": 14,
   "metadata": {},
   "outputs": [],
   "source": [
    "def test_with_b(b, a=6.0, k=10):\n",
    "    print(f'k = {k}, a = {a}, b = {b}\\n')\n",
    "    lda_model = LDA.train(courses_rdd, docConcentration=a, topicConcentration=b, k=k)\n",
    "    model_virtualization(lda_model)"
   ]
  },
  {
   "cell_type": "code",
   "execution_count": 15,
   "metadata": {},
   "outputs": [
    {
     "name": "stdout",
     "output_type": "stream",
     "text": [
      "k = 10, a = 6.0, b = 1.01\n",
      "\n",
      "Topic 1:\n",
      "['materi', 'electron', 'applic', 'properti', 'devic', '2', 'network', 'physic', 'field', 'organ']\n",
      "Topic 2:\n",
      "['energi', 'process', 'chemic', 'protein', 'biolog', 'reaction', 'cell', 'thermodynam', 'engin', 'concept']\n",
      "Topic 3:\n",
      "['work', 'learn', 'assess', 'teach', 'project', 'group', 'concept', 'code', 'commun', 'present']\n",
      "Topic 4:\n",
      "['optic', 'present', 'imag', 'project', 'research', 'develop', 'paper', 'assess', 'lectur', 'work']\n",
      "Topic 5:\n",
      "['report', 'project', 'scientif', 'present', 'evalu', 'plan', 'research', 'assess', 'laboratori', 'industri']\n",
      "Topic 6:\n",
      "['model', 'linear', 'numer', 'analysi', 'exercis', 'problem', 'statist', 'probabl', 'optim', 'data']\n",
      "Topic 7:\n",
      "['data', 'project', 'assess', 'technolog', 'evalu', 'present', 'develop', 'inform', 'polici', 'skill']\n",
      "Topic 8:\n",
      "['system', 'analysi', 'function', 'signal', 'control', 'problem', 'fourier', 'assess', 'theori', 'model']\n",
      "Topic 9:\n",
      "['mechan', 'structur', 'equat', 'physic', 'flow', 'quantum', 'dynam', 'stabil', 'basic', 'solid']\n",
      "Topic 10:\n",
      "['model', 'risk', 'assess', 'circuit', 'lectur', 'theori', 'problem', 'exam', 'techniqu', 'level']\n"
     ]
    }
   ],
   "source": [
    "b = 1.01\n",
    "test_with_b(b)"
   ]
  },
  {
   "cell_type": "code",
   "execution_count": 16,
   "metadata": {},
   "outputs": [
    {
     "name": "stdout",
     "output_type": "stream",
     "text": [
      "k = 10, a = 6.0, b = 2.0\n",
      "\n",
      "Topic 1:\n",
      "['model', 'project', 'assess', 'data', 'report', 'present', 'research', 'optim', 'lectur', 'skill']\n",
      "Topic 2:\n",
      "['optic', 'energi', 'electron', 'materi', 'applic', 'physic', 'devic', 'principl', 'properti', 'sensor']\n",
      "Topic 3:\n",
      "['structur', 'model', 'system', 'assess', 'week', 'engin', 'lectur', 'work', 'project', 'present']\n",
      "Topic 4:\n",
      "['cell', 'assess', 'present', 'develop', 'lectur', 'work', 'activ', 'concept', 'teach', 'project']\n",
      "Topic 5:\n",
      "['materi', 'assess', 'project', 'present', 'report', 'work', 'skill', 'robot', 'properti', 'plan']\n",
      "Topic 6:\n",
      "['model', 'data', 'process', 'analysi', 'algorithm', 'assess', 'project', 'signal', 'linear', 'code']\n",
      "Topic 7:\n",
      "['model', 'imag', 'equat', 'basic', 'concept', 'assess', 'flow', 'function', 'mechan', 'lectur']\n",
      "Topic 8:\n",
      "['model', 'analysi', 'problem', 'exercis', 'assess', 'process', 'basic', 'lectur', 'system', 'concept']\n",
      "Topic 9:\n",
      "['present', 'evalu', 'assess', 'project', 'technolog', 'paper', 'report', 'studi', 'activ', 'polici']\n",
      "Topic 10:\n",
      "['model', 'basic', 'comput', 'process', 'lectur', 'theori', 'stochast', 'assess', 'applic', 'equat']\n"
     ]
    }
   ],
   "source": [
    "b = 2.0\n",
    "test_with_b(b)"
   ]
  },
  {
   "cell_type": "code",
   "execution_count": 17,
   "metadata": {},
   "outputs": [
    {
     "name": "stdout",
     "output_type": "stream",
     "text": [
      "k = 10, a = 6.0, b = 5.0\n",
      "\n",
      "Topic 1:\n",
      "['assess', 'project', 'model', 'process', 'present', 'analysi', 'lectur', 'work', 'activ', 'evalu']\n",
      "Topic 2:\n",
      "['model', 'assess', 'process', 'present', 'lectur', 'basic', 'analysi', 'materi', 'concept', 'applic']\n",
      "Topic 3:\n",
      "['model', 'assess', 'process', 'basic', 'analysi', 'concept', 'lectur', 'materi', 'system', 'present']\n",
      "Topic 4:\n",
      "['model', 'assess', 'process', 'analysi', 'present', 'project', 'lectur', 'concept', 'work', 'basic']\n",
      "Topic 5:\n",
      "['optic', 'model', 'assess', 'present', 'basic', 'lectur', 'materi', 'concept', 'process', 'applic']\n",
      "Topic 6:\n",
      "['model', 'assess', 'project', 'present', 'process', 'data', 'analysi', 'lectur', 'concept', 'basic']\n",
      "Topic 7:\n",
      "['assess', 'model', 'present', 'lectur', 'work', 'project', 'concept', 'basic', 'analysi', 'activ']\n",
      "Topic 8:\n",
      "['model', 'assess', 'analysi', 'basic', 'lectur', 'present', 'process', 'concept', 'project', 'problem']\n",
      "Topic 9:\n",
      "['model', 'assess', 'present', 'lectur', 'process', 'basic', 'structur', 'project', 'analysi', 'work']\n",
      "Topic 10:\n",
      "['model', 'assess', 'present', 'lectur', 'process', 'concept', 'basic', 'work', 'analysi', 'activ']\n"
     ]
    }
   ],
   "source": [
    "b = 5.0\n",
    "test_with_b(b)"
   ]
  },
  {
   "cell_type": "code",
   "execution_count": 18,
   "metadata": {},
   "outputs": [
    {
     "name": "stdout",
     "output_type": "stream",
     "text": [
      "k = 10, a = 6.0, b = 10.0\n",
      "\n",
      "Topic 1:\n",
      "['model', 'assess', 'analysi', 'present', 'process', 'project', 'lectur', 'basic', 'concept', 'work']\n",
      "Topic 2:\n",
      "['model', 'assess', 'present', 'lectur', 'process', 'basic', 'project', 'analysi', 'concept', 'work']\n",
      "Topic 3:\n",
      "['model', 'assess', 'present', 'project', 'process', 'lectur', 'analysi', 'work', 'concept', 'basic']\n",
      "Topic 4:\n",
      "['model', 'assess', 'present', 'process', 'analysi', 'lectur', 'project', 'concept', 'basic', 'work']\n",
      "Topic 5:\n",
      "['model', 'assess', 'present', 'process', 'analysi', 'project', 'lectur', 'concept', 'basic', 'work']\n",
      "Topic 6:\n",
      "['model', 'assess', 'process', 'basic', 'analysi', 'lectur', 'present', 'concept', 'project', 'prerequisit']\n",
      "Topic 7:\n",
      "['model', 'assess', 'process', 'present', 'basic', 'lectur', 'analysi', 'concept', 'project', 'prerequisit']\n",
      "Topic 8:\n",
      "['model', 'assess', 'process', 'basic', 'present', 'lectur', 'analysi', 'concept', 'prerequisit', 'activ']\n",
      "Topic 9:\n",
      "['model', 'assess', 'process', 'present', 'lectur', 'basic', 'analysi', 'project', 'concept', 'work']\n",
      "Topic 10:\n",
      "['model', 'assess', 'present', 'basic', 'process', 'lectur', 'concept', 'materi', 'analysi', 'applic']\n"
     ]
    }
   ],
   "source": [
    "b = 10.0\n",
    "test_with_b(b)"
   ]
  },
  {
   "cell_type": "code",
   "execution_count": 19,
   "metadata": {},
   "outputs": [
    {
     "name": "stdout",
     "output_type": "stream",
     "text": [
      "k = 10, a = 6.0, b = 20.0\n",
      "\n",
      "Topic 1:\n",
      "['model', 'assess', 'present', 'process', 'lectur', 'analysi', 'basic', 'project', 'concept', 'work']\n",
      "Topic 2:\n",
      "['model', 'assess', 'process', 'present', 'lectur', 'analysi', 'basic', 'project', 'concept', 'work']\n",
      "Topic 3:\n",
      "['model', 'assess', 'present', 'process', 'lectur', 'basic', 'analysi', 'project', 'concept', 'work']\n",
      "Topic 4:\n",
      "['model', 'assess', 'present', 'process', 'lectur', 'analysi', 'basic', 'project', 'concept', 'work']\n",
      "Topic 5:\n",
      "['model', 'assess', 'present', 'process', 'lectur', 'analysi', 'project', 'basic', 'concept', 'work']\n",
      "Topic 6:\n",
      "['model', 'assess', 'present', 'process', 'lectur', 'analysi', 'project', 'basic', 'concept', 'work']\n",
      "Topic 7:\n",
      "['model', 'assess', 'present', 'process', 'lectur', 'analysi', 'project', 'basic', 'concept', 'work']\n",
      "Topic 8:\n",
      "['model', 'assess', 'present', 'process', 'project', 'lectur', 'analysi', 'basic', 'concept', 'work']\n",
      "Topic 9:\n",
      "['model', 'assess', 'present', 'process', 'lectur', 'analysi', 'basic', 'project', 'concept', 'work']\n",
      "Topic 10:\n",
      "['model', 'assess', 'process', 'present', 'lectur', 'analysi', 'project', 'basic', 'concept', 'work']\n"
     ]
    }
   ],
   "source": [
    "b = 20.0\n",
    "test_with_b(b)"
   ]
  },
  {
   "cell_type": "code",
   "execution_count": 20,
   "metadata": {},
   "outputs": [
    {
     "name": "stdout",
     "output_type": "stream",
     "text": [
      "k = 10, a = 6.0, b = 100.0\n",
      "\n",
      "Topic 1:\n",
      "['model', 'assess', 'present', 'process', 'lectur', 'analysi', 'project', 'basic', 'concept', 'work']\n",
      "Topic 2:\n",
      "['model', 'assess', 'present', 'process', 'lectur', 'analysi', 'project', 'basic', 'concept', 'work']\n",
      "Topic 3:\n",
      "['model', 'assess', 'present', 'process', 'lectur', 'analysi', 'project', 'basic', 'concept', 'work']\n",
      "Topic 4:\n",
      "['model', 'assess', 'present', 'process', 'lectur', 'analysi', 'project', 'basic', 'concept', 'work']\n",
      "Topic 5:\n",
      "['model', 'assess', 'present', 'process', 'lectur', 'analysi', 'project', 'basic', 'concept', 'work']\n",
      "Topic 6:\n",
      "['model', 'assess', 'present', 'process', 'lectur', 'analysi', 'project', 'basic', 'concept', 'work']\n",
      "Topic 7:\n",
      "['model', 'assess', 'present', 'process', 'lectur', 'analysi', 'project', 'basic', 'concept', 'work']\n",
      "Topic 8:\n",
      "['model', 'assess', 'present', 'process', 'lectur', 'analysi', 'project', 'basic', 'concept', 'work']\n",
      "Topic 9:\n",
      "['model', 'assess', 'present', 'process', 'lectur', 'analysi', 'project', 'basic', 'concept', 'work']\n",
      "Topic 10:\n",
      "['model', 'assess', 'present', 'process', 'lectur', 'analysi', 'project', 'basic', 'concept', 'work']\n"
     ]
    }
   ],
   "source": [
    "b = 100.0\n",
    "test_with_b(b)"
   ]
  },
  {
   "cell_type": "markdown",
   "metadata": {},
   "source": [
    "Similarly, adjusting the value of β in the LDA model impacts the similarity between topics. As β increases, topics tend to become more alike, while decreasing β results in more distinct and diverse topics. This phenomenon arises from the role of β in shaping the prior distribution of topics across terms. Larger β values promote smoother inferred distributions, fostering uniformity among topics."
   ]
  },
  {
   "cell_type": "markdown",
   "metadata": {},
   "source": [
    "## Exercise 4.10: EPFL's taught subjects"
   ]
  },
  {
   "cell_type": "markdown",
   "metadata": {},
   "source": [
    "As EPFL has 20 different sessions, we choose $k=20$."
   ]
  },
  {
   "cell_type": "code",
   "execution_count": 21,
   "metadata": {},
   "outputs": [],
   "source": [
    "k = 20"
   ]
  },
  {
   "cell_type": "markdown",
   "metadata": {},
   "source": [
    "As we want the distribution of topics per document not to be not very close to uniform, we choose small values for $a=b=1.01$."
   ]
  },
  {
   "cell_type": "code",
   "execution_count": 22,
   "metadata": {},
   "outputs": [],
   "source": [
    "a, b = 1.01, 1.01"
   ]
  },
  {
   "cell_type": "code",
   "execution_count": 23,
   "metadata": {},
   "outputs": [
    {
     "name": "stdout",
     "output_type": "stream",
     "text": [
      "k = 20, a = 1.01, b = 1.01\n",
      "\n",
      "Topic 1:\n",
      "['model', 'data', 'statist', 'problem', 'stochast', 'comput', 'analysi', 'linear', 'algorithm', 'theori']\n",
      "Topic 2:\n",
      "['model', 'linear', 'process', 'control', 'dynam', 'analysi', 'exercis', 'applic', 'machin', 'basic']\n",
      "Topic 3:\n",
      "['structur', 'materi', 'properti', 'magnet', 'physic', 'solut', 'electr', 'electron', 'stabil', 'applic']\n",
      "Topic 4:\n",
      "['analysi', 'theori', 'measur', 'fourier', 'problem', 'process', 'space', 'transform', 'model', 'signal']\n",
      "Topic 5:\n",
      "['system', 'control', 'program', 'circuit', 'model', 'digit', 'simul', 'commun', 'design', 'implement']\n",
      "Topic 6:\n",
      "['research', 'lectur', 'technolog', 'develop', 'present', 'week', 'semest', 'engin', 'network', 'field']\n",
      "Topic 7:\n",
      "['optic', 'laser', 'project', 'experi', 'work', 'learn', 'evalu', 'technolog', 'practic', 'light']\n",
      "Topic 8:\n",
      "['materi', 'structur', 'mechan', 'properti', 'polym', 'surfac', 'model', 'applic', 'metal', 'assess']\n",
      "Topic 9:\n",
      "['cell', 'biolog', 'protein', 'molecular', 'present', 'function', 'tissu', 'diseas', 'discuss', 'lectur']\n",
      "Topic 10:\n",
      "['organ', 'innov', 'synthesi', 'chemistri', 'speech', 'develop', 'topic', 'note', 'industri', 'analysi']\n",
      "Topic 11:\n",
      "['chemic', 'reaction', 'energi', 'equat', 'process', 'heat', 'thermodynam', 'quantum', 'transfer', 'engin']\n",
      "Topic 12:\n",
      "['project', 'report', 'scientif', 'research', 'data', 'laboratori', 'skill', 'evalu', 'experiment', 'assess']\n",
      "Topic 13:\n",
      "['architectur', 'cmo', 'devic', 'polici', 'technolog', 'transistor', 'water', 'common', 'electron', '2']\n",
      "Topic 14:\n",
      "['present', 'work', 'data', 'group', 'activ', 'report', 'project', 'requir', 'assess', 'final']\n",
      "Topic 15:\n",
      "['manag', 'case', 'market', 'assess', 'financi', 'risk', 'price', 'class', 'decis', 'econom']\n",
      "Topic 16:\n",
      "['sensor', 'basic', 'comput', 'signal', 'energi', 'imag', 'applic', 'principl', 'measur', 'wireless']\n",
      "Topic 17:\n",
      "['energi', 'algorithm', 'flow', 'project', 'assess', 'work', 'lectur', 'concept', 'graph', 'architectur']\n",
      "Topic 18:\n",
      "['biolog', 'microscopi', 'electron', '2', 'note', 'imag', 'molecular', 'basic', 'field', 'introduct']\n",
      "Topic 19:\n",
      "['system', 'model', 'process', 'devic', 'engin', 'sensor', 'applic', 'electron', 'design', 'product']\n",
      "Topic 20:\n",
      "['assess', 'inform', 'present', 'plan', 'evalu', 'skill', 'commun', 'effect', 'object', 'learn']\n"
     ]
    }
   ],
   "source": [
    "print(f'k = {k}, a = {a}, b = {b}\\n')\n",
    "lda_epfl = LDA.train(courses_rdd, docConcentration=a, topicConcentration=b, k=k)\n",
    "model_virtualization(lda_epfl)"
   ]
  },
  {
   "cell_type": "code",
   "execution_count": 24,
   "metadata": {},
   "outputs": [
    {
     "name": "stdout",
     "output_type": "stream",
     "text": [
      "Topic 1: Project\n",
      "Topic 2: Statistical Mechanics\n",
      "Topic 3: Finance\n",
      "Topic 4: Optics\n",
      "Topic 5: Biology\n",
      "Topic 6: Chemistry\n",
      "Topic 7: Material\n",
      "Topic 8: Project\n",
      "Topic 9: Risk Management\n",
      "Topic 10: Sciense\n",
      "Topic 11: Sensor Design\n",
      "Topic 12: Computer Science\n",
      "Topic 13: Architecture\n",
      "Topic 14: Energy\n",
      "Topic 15: Electronic Engineering\n",
      "Topic 16: Bio Engineering\n",
      "Topic 17: Data Science\n",
      "Topic 18: Physice\n",
      "Topic 19: Quantum Theory\n",
      "Topic 20: Project\n"
     ]
    }
   ],
   "source": [
    "# Manually add labels to topics\n",
    "labels = [\n",
    "    'Project',\n",
    "    'Statistical Mechanics',\n",
    "    'Finance',\n",
    "    'Optics',\n",
    "    'Biology',\n",
    "    'Chemistry',\n",
    "    'Material',\n",
    "    'Project',\n",
    "    'Risk Management',\n",
    "    'Sciense',\n",
    "    'Sensor Design',\n",
    "    'Computer Science',\n",
    "    'Architecture',\n",
    "    'Energy',\n",
    "    'Electronic Engineering',\n",
    "    'Bio Engineering',\n",
    "    'Data Science',\n",
    "    'Physice',\n",
    "    'Quantum Theory',\n",
    "    'Project'\n",
    "]\n",
    "\n",
    "for i, label in enumerate(labels):\n",
    "    print(f'Topic {i+1}: {label}')"
   ]
  },
  {
   "cell_type": "markdown",
   "metadata": {},
   "source": [
    "## Exercise 4.11: Wikipedia structure"
   ]
  },
  {
   "cell_type": "markdown",
   "metadata": {},
   "source": [
    "Wikipedia content covers a lot of areas, and since memory is limited, we chose $k=20$. Also, since we want to filter out more representative keywords, we still chose small values for $a=b=1.01$."
   ]
  },
  {
   "cell_type": "code",
   "execution_count": 25,
   "metadata": {},
   "outputs": [],
   "source": [
    "# Load the dataset\n",
    "wiki_RDD = sc.textFile('/ix/wikipedia-for-schools.txt').map(json.loads)\n",
    "wikipage_RDD = wiki_RDD.map(lambda p: p['page_id']).distinct()\n",
    "N = wikipage_RDD.count()"
   ]
  },
  {
   "cell_type": "code",
   "execution_count": 26,
   "metadata": {},
   "outputs": [],
   "source": [
    "# Record every page\n",
    "pageID = list(dict(zip(wikipage_RDD.collect(), range(N))).values())\n",
    "\n",
    "# Record all words\n",
    "words_RDD = wiki_RDD.flatMap(lambda p: p[\"tokens\"]).distinct()\n",
    "M = words_RDD.count() \n",
    "\n",
    "# Record all terms\n",
    "terms = dict(zip(words_RDD.collect(), range(M)))\n",
    "vectorized_term = np.vectorize(lambda x: terms[x])\n",
    "termID = {v: k for k, v in terms.items()}\n",
    "\n",
    "# Reduce wikipedia RDD with only indexes\n",
    "red_wiki_RDD = wiki_RDD.map(lambda c: (pageID[c[\"page_id\"]], vectorized_term(c[\"tokens\"])))"
   ]
  },
  {
   "cell_type": "code",
   "execution_count": 27,
   "metadata": {},
   "outputs": [],
   "source": [
    "def doc_to_vector(doc):\n",
    "    vector = {}\n",
    "    for term in doc[1]:\n",
    "        vector[term] = vector.get(term, 0) + 1\n",
    "    return (doc[0], Vectors.sparse(M, vector))\n",
    "\n",
    "# Build the term-document matrix\n",
    "term_doc_matrix = red_wiki_RDD.map(lambda x: doc_to_vector(x)).map(list)"
   ]
  },
  {
   "cell_type": "code",
   "execution_count": 28,
   "metadata": {
    "scrolled": true
   },
   "outputs": [
    {
     "name": "stdout",
     "output_type": "stream",
     "text": [
      "Topic 1:\n",
      "['games', 'game', 'players', 'world', 'time', 'olympic', '–', 'cup', 'player', 'events']\n",
      "Topic 2:\n",
      "['theory', 'number', '=', 'numbers', 'work', 'set', 'called', 'form', 'written', 'century']\n",
      "Topic 3:\n",
      "['city', '·', 'centre', 'century', 'law', 'population', 'system', 'government', 'state', 'years']\n",
      "Topic 4:\n",
      "['blood', 'people', 'health', 'cancer', 'medical', 'treatment', 'risk', 'patients', 'high', 'years']\n",
      "Topic 5:\n",
      "['eruption', 'years', 'comet', 'lava', 'volcanic', 'volcano', 'india', 'soil', 'large', 'time']\n",
      "Topic 6:\n",
      "['island', 'islands', 'european', 'city', 'population', 'country', 'north', 'south', 'ireland', 'east']\n",
      "Topic 7:\n",
      "['south', 'lake', 'mi', 'area', 'river', 'city', 'oil', 'water', 'population', 'north']\n",
      "Topic 8:\n",
      "['gas', 'lens', 'game', 'time', 'earth', 'lenses', 'water', 'number', 'ds', 'haiku']\n",
      "Topic 9:\n",
      "['music', 'instruments', 'painting', 'art', 'made', 'popular', 'instrument', 'set', 'bass', 'style']\n",
      "Topic 10:\n",
      "['american', '–', 'calendar', 'january', 'march', 'february', 'july', 'april', 'june', 'december']\n",
      "Topic 11:\n",
      "['computer', 'software', 'oil', 'language', 'acid', 'system', 'internet', 'apple', '^', 'version']\n",
      "Topic 12:\n",
      "['energy', 'water', 'mass', 'light', 'earth', 'surface', 'chemical', 'form', 'temperature', 'solar']\n",
      "Topic 13:\n",
      "['film', 'john', 'england', 'series', 'time', 'london', '–', 'years', 'house', 'george']\n",
      "Topic 14:\n",
      "['government', 'state', 'rights', 'states', 'china', 'united', 'president', 'national', 'city', 'republic']\n",
      "Topic 15:\n",
      "['river', 'sea', 'lake', 'area', 'north', 'world', 'large', 'south', 'years', 'al']\n",
      "Topic 16:\n",
      "['bc', 'gods', 'egyptian', 'horse', 'god', 'egypt', 'mythology', 'modern', 'greek', 'temple']\n",
      "Topic 17:\n",
      "['war', 'british', 'american', 'united', 'german', 'september', 'august', 'states', 'july', 'army']\n",
      "Topic 18:\n",
      "['ice', 'space', 'war', 'nuclear', 'soviet', 'forces', 'weapons', 'time', 'force', 'mission']\n",
      "Topic 19:\n",
      "['system', 'systems', 'energy', 'information', 'distribution', 'data', 'number', 'dna', 'engine', 'process']\n",
      "Topic 20:\n",
      "['company', '$', 'war', 'market', 'states', 'world', 'united', 'government', 'system', 'japanese']\n"
     ]
    }
   ],
   "source": [
    "# Dirichlet hyperparameters\n",
    "k = 20\n",
    "a = 1.01\n",
    "b = 1.01\n",
    "\n",
    "# Train the LDA model\n",
    "lda = LDA.train(term_doc_matrix, k=k, docConcentration=a, topicConcentration=b)\n",
    "model_virtualization(lda_wiki)"
   ]
  },
  {
   "cell_type": "code",
   "execution_count": 29,
   "metadata": {},
   "outputs": [
    {
     "name": "stdout",
     "output_type": "stream",
     "text": [
      "Topic 1: Olympic Games\n",
      "Topic 2: Maths\n",
      "Topic 3: City\n",
      "Topic 4: Disease\n",
      "Topic 5: Geography\n",
      "Topic 6: Europe\n",
      "Topic 7: Population\n",
      "Topic 8: Lenses and Light\n",
      "Topic 9: Art\n",
      "Topic 10: Calendar\n",
      "Topic 11: Computers and Software\n",
      "Topic 12: Earth's Energy\n",
      "Topic 13: Film\n",
      "Topic 14: Forms of Government\n",
      "Topic 15: Rivers and Lakes\n",
      "Topic 16: History\n",
      "Topic 17: Months\n",
      "Topic 18: Wars\n",
      "Topic 19: Environment\n",
      "Topic 20: Global Corporations\n"
     ]
    }
   ],
   "source": [
    "# Manually add labels to topics\n",
    "labels = [\n",
    "    \"Olympic Games\",\n",
    "    \"Maths\",\n",
    "    \"City\",\n",
    "    \"Disease\",\n",
    "    \"Geography\",\n",
    "    \"Europe\",\n",
    "    \"Population\",\n",
    "    \"Lenses and Light\",\n",
    "    \"Art\",\n",
    "    \"Calendar\",\n",
    "    \"Computers and Software\",\n",
    "    \"Earth's Energy\",\n",
    "    \"Film\",\n",
    "    \"Forms of Government\",\n",
    "    \"Rivers and Lakes\",\n",
    "    \"History\",\n",
    "    \"Months\",\n",
    "    \"Wars\",\n",
    "    \"Environment\",\n",
    "    \"Global Corporations\",\n",
    "]\n",
    "\n",
    "for i, label in enumerate(labels):\n",
    "    print(f'Topic {i+1}: {label}')"
   ]
  }
 ],
 "metadata": {
  "kernelspec": {
   "display_name": "Python 3",
   "language": "python",
   "name": "python3"
  },
  "language_info": {
   "codemirror_mode": {
    "name": "ipython",
    "version": 3
   },
   "file_extension": ".py",
   "mimetype": "text/x-python",
   "name": "python",
   "nbconvert_exporter": "python",
   "pygments_lexer": "ipython3",
   "version": "3.7.6"
  }
 },
 "nbformat": 4,
 "nbformat_minor": 2
}
